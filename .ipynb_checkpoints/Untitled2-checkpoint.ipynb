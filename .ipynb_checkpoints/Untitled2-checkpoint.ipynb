{
 "cells": [
  {
   "cell_type": "markdown",
   "metadata": {},
   "source": [
    "## 통계 지표 활용하기"
   ]
  },
  {
   "cell_type": "code",
   "execution_count": 1,
   "metadata": {},
   "outputs": [
    {
     "name": "stdout",
     "output_type": "stream",
     "text": [
      "Requirement already satisfied: selenium in c:\\programdata\\anaconda3\\lib\\site-packages (3.141.0)\n",
      "Requirement already satisfied: urllib3 in c:\\programdata\\anaconda3\\lib\\site-packages (from selenium) (1.25.11)\n",
      "Note: you may need to restart the kernel to use updated packages.\n"
     ]
    }
   ],
   "source": [
    "pip install selenium"
   ]
  },
  {
   "cell_type": "code",
   "execution_count": 5,
   "metadata": {},
   "outputs": [
    {
     "name": "stdout",
     "output_type": "stream",
     "text": [
      "파일 다운로드 실행\n"
     ]
    }
   ],
   "source": [
    "from selenium import webdriver\n",
    "import time\n",
    "\n",
    "#100대 통계지표 엑셀 다운로드\n",
    "def download_bok_statistics():\n",
    "    driver=webdriver.Chrome(\"./Selenium/chromedriver\")\n",
    "    driver.implicitly_wait(3)\n",
    "    driver.get(\"http://ecos.bok.or.kr/jsp/vis/keystat/#/key\")\n",
    "    \n",
    "    excel_download=driver.find_element_by_css_selector(\"body > div.HSwrap.ng-scope > div.HScontainer > div > div > div.HScontent-header > div > fieldset > a > img\")\n",
    "    driver.implicitly_wait(3)\n",
    "    \n",
    "    excel_download.click()\n",
    "    time.sleep(5)\n",
    "    \n",
    "    driver.close()\n",
    "    print(\"파일 다운로드 실행\")\n",
    "    \n",
    "    return None\n",
    "download_bok_statistics()"
   ]
  },
  {
   "cell_type": "markdown",
   "metadata": {},
   "source": [
    "## 통계 지표 활용하기 2\n",
    "하나의 통계지표를 검색해서 상세 정보를 불러오는 작업"
   ]
  },
  {
   "cell_type": "code",
   "execution_count": null,
   "metadata": {},
   "outputs": [],
   "source": [
    "from bs4 import BeautifulSoup\n",
    "from selenium import webdriver\n",
    "import re\n",
    "\n",
    "#통계지표 검색어를 입력하여, CSV 파일로 저장하기\n",
    "def download_bok_statistics_by_keyword():\n",
    "    item_found=0\n",
    "    while not item_found:\n",
    "        \n",
    "        #검색어 초기화\n",
    "        keyword=\"\"\n",
    "        while len(keyword)==0:\n",
    "            keyword=str(input(\"검색할 항목을 입력하시오: \"))\n",
    "        \n",
    "        #웹드라이버 실행\n",
    "        driver=webdriver.Chrome(\"./Selenium/chromedriver\")\n",
    "        driver.implicitly_wait(3)\n",
    "        driver.get(\"http://ecos.bok.or.kr/jsp/vis/keystat/#/key\")\n",
    "        time.sleep(5)\n",
    "        \n",
    "        #0 false, 1 true\n",
    "        items1=driver.find_elements_by_css_selector('a[class=\"ng-binding\"]')\n",
    "        items2=driver.find_elements_by_css_selector('a[class=\"a-c1-list ng-binding\"]')\n",
    "        items3=driver.find_elements_by_css_selector('a[class=\"a-c4-list ng-binding\"]')\n",
    "        driver.implicitly_wait(3)\n",
    "        \n",
    "        items=items1[1:]+items2+items3\n",
    "        \n",
    "        for idx,item in enumerate(items):\n",
    "            if keyword in item.text:\n",
    "                \n",
    "\n"
   ]
  }
 ],
 "metadata": {
  "kernelspec": {
   "display_name": "Python 3",
   "language": "python",
   "name": "python3"
  },
  "language_info": {
   "codemirror_mode": {
    "name": "ipython",
    "version": 3
   },
   "file_extension": ".py",
   "mimetype": "text/x-python",
   "name": "python",
   "nbconvert_exporter": "python",
   "pygments_lexer": "ipython3",
   "version": "3.8.5"
  }
 },
 "nbformat": 4,
 "nbformat_minor": 4
}
