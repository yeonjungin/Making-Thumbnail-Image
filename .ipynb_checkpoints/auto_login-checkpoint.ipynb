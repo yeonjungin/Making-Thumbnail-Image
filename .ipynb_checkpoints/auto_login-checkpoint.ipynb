{
 "cells": [
  {
   "cell_type": "markdown",
   "metadata": {},
   "source": [
    "## 자동 로그인"
   ]
  },
  {
   "cell_type": "code",
   "execution_count": 17,
   "metadata": {},
   "outputs": [
    {
     "name": "stdout",
     "output_type": "stream",
     "text": [
      "Note: you may need to restart the kernel to use updated packages.\n"
     ]
    },
    {
     "name": "stderr",
     "output_type": "stream",
     "text": [
      "ERROR: Invalid requirement: '#셀레니움'\n"
     ]
    }
   ],
   "source": [
    "pip install selenium #셀레니움 패키지 설치"
   ]
  },
  {
   "cell_type": "code",
   "execution_count": 18,
   "metadata": {},
   "outputs": [
    {
     "name": "stdout",
     "output_type": "stream",
     "text": [
      "HTML 요소 :  <selenium.webdriver.remote.webelement.WebElement (session=\"50cff31da791b8e02e99d825bb920233\", element=\"73efecc7-8bd1-4be4-b561-80d1619e0899\")>\n",
      "태그 이름 :  a\n",
      "문자열 :  로그인\n",
      "href 속성 :  https://auth.danawa.com/login?url=http%3A%2F%2Fwww.danawa.com%2F\n"
     ]
    }
   ],
   "source": [
    "from selenium import webdriver \n",
    "\n",
    "driver=webdriver.Chrome(\"./Selenium/chromedriver\")\n",
    "\"\"\" webdriver 모듈의 chrome함수를 사용해서 크롬 웹 드라이버를 실행하고 변수에 저장한다. \"\"\"\n",
    "\n",
    "driver.implicitly_wait(3) \n",
    "\"\"\" \n",
    "크롬 웹 드라이버를 로딩하기 위해서 3초간 대기한다\n",
    "implicitly_waite을 3초로 설정하면 페이지가 로딩되는 데 3초까지 기다린다.\n",
    "만약 로딩이 1초에 완료되었으면 더 기다리지 않고 다음 코드를 수행한다.\n",
    "\"\"\"\n",
    "\n",
    "driver.get(\"https://www.danawa.com/\")\n",
    "\"\"\" get 메소드를 이용해서 다나와 웹사이트를 실행시킨다. \"\"\"\n",
    "\n",
    "# 로그인 버튼 누르기\n",
    "login=driver.find_element_by_css_selector('li.my_page_service>a')\n",
    "\"\"\"find_element_by_css_selector 함수는 찾아낸 element를 login 객체로 반환함\"\"\"\n",
    "print(\"HTML 요소 : \" , login)\n",
    "print(\"태그 이름 : \",login.tag_name)\n",
    "print(\"문자열 : \", login.text)\n",
    "print(\"href 속성 : \", login.get_attribute('href'))\n",
    "\n",
    "login.click() \n",
    "\"\"\" \n",
    "login이 클릭 가능한 객체일 경우 click()메소드를 이용해서 클릭이 가능함\n",
    "한 줄 요약도 가능\n",
    "driver.find_element_by_css_selector('css selector 복사내용').click()\n",
    "\"\"\"\n",
    "\n",
    "driver.implicitly_wait(3)\n",
    "\n",
    "my_id=\"아이디\"\n",
    "my_pwd=\"비밀번호\"\n",
    "\n",
    "driver.find_element_by_id('danawa-member-login-input-id').send_keys(my_id)\n",
    "driver.implicitly_wait(2)\n",
    "driver.find_element_by_name('password').send_keys(my_pwd)\n",
    "driver.implicitly_wait(2)"
   ]
  },
  {
   "cell_type": "code",
   "execution_count": null,
   "metadata": {},
   "outputs": [],
   "source": [
    "\n",
    "\n"
   ]
  },
  {
   "cell_type": "code",
   "execution_count": null,
   "metadata": {},
   "outputs": [],
   "source": []
  }
 ],
 "metadata": {
  "kernelspec": {
   "display_name": "Python 3",
   "language": "python",
   "name": "python3"
  },
  "language_info": {
   "codemirror_mode": {
    "name": "ipython",
    "version": 3
   },
   "file_extension": ".py",
   "mimetype": "text/x-python",
   "name": "python",
   "nbconvert_exporter": "python",
   "pygments_lexer": "ipython3",
   "version": "3.8.5"
  }
 },
 "nbformat": 4,
 "nbformat_minor": 4
}
