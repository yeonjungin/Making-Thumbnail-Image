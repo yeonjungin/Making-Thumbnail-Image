{
 "cells": [
  {
   "cell_type": "markdown",
   "metadata": {},
   "source": [
    "## 이미지 썸네일 만들기 (with python)"
   ]
  },
  {
   "cell_type": "code",
   "execution_count": 1,
   "metadata": {},
   "outputs": [
    {
     "name": "stdout",
     "output_type": "stream",
     "text": [
      "Requirement already satisfied: Pillow in c:\\programdata\\anaconda3\\lib\\site-packages (8.0.1)\n",
      "Note: you may need to restart the kernel to use updated packages.\n"
     ]
    }
   ],
   "source": [
    "pip install Pillow"
   ]
  },
  {
   "cell_type": "code",
   "execution_count": 8,
   "metadata": {},
   "outputs": [
    {
     "name": "stdout",
     "output_type": "stream",
     "text": [
      "제목을 입력하세요\n",
      "안녕하세요 Hello 반가워요\n",
      "download done\n"
     ]
    }
   ],
   "source": [
    "from PIL import Image,ImageDraw,ImageFont\n",
    "#PIL 패키지는 이미지 처리에 유용한 패키지이다. \n",
    "import textwrap # textwrap : word-wrapping과 같은 텍스트 처리를 한다.\n",
    "import random\n",
    "\n",
    "#배경색 랜덤으로 추출하는 함수\n",
    "def random_bg_color():\n",
    "    rgbl=[]\n",
    "    for num in range(3): #숫자 3개 뽑기\n",
    "        num=random.randint(0,255) #0부터 255까지 추출\n",
    "        rgbl.append(num)    \n",
    "    #random.shuffle(rgbl) #suffle함수 : 리스트 항목 섞기\n",
    "    return tuple(rgbl)\n",
    "\n",
    "# RUN 메서드\n",
    "def run(file_name):\n",
    "    para=textwrap.wrap(file_name,width=11) #각 줄당 최대 글자수 11개까지 (띄어쓰기 포함)\n",
    "    Max_w,Max_h=480,480 #이미지 사이즈 480x480\n",
    "    bg_color='rgb'+str(random_bg_color()) #랜덤숫자를 rgb형식으로 바꾸기\n",
    "    image=Image.new('RGB',(Max_w,Max_h),bg_color)\n",
    "    #Image.new(mode,size,color) > 주어진 형식의 새로운 이미지를 생성한다.\n",
    "    draw=ImageDraw.Draw(image)\n",
    "    font=ImageFont.truetype('C:/Users/0206d/Downloads/Noto_Sans_KR/NotoSansKR-Bold.otf',size=50)\n",
    "    font_color='rgb(0,0,0)' #글자 색상은 검정(black)\n",
    "    \n",
    "    current_h,pad=0,10 #currnet_h는 현재 높이 위치, pad는 줄간격\n",
    "    \n",
    "    if len(file_name)<=11:\n",
    "            current_h=180\n",
    "    elif len(file_name)<=22:\n",
    "        current_h=150\n",
    "    else:\n",
    "        current_h=110\n",
    "    for line in para:\n",
    "        w,h=draw.textsize(line,font=font)\n",
    "        draw.text(((Max_w-w)/2,current_h),line,font=font,fill=font_color)\n",
    "        current_h+=h+pad\n",
    "    \n",
    "    image.save('{}.png'.format(file_name[:5])) #제목의 5자까지 잘라서 파일명으로 입력 후 저장\n",
    "    return\n",
    "\n",
    "if __name__ == '__main__':\n",
    "    file_name=input('제목을 입력하세요\\n')\n",
    "    run(file_name)\n",
    "    print('download done')"
   ]
  },
  {
   "cell_type": "code",
   "execution_count": null,
   "metadata": {},
   "outputs": [],
   "source": []
  },
  {
   "cell_type": "code",
   "execution_count": null,
   "metadata": {},
   "outputs": [],
   "source": []
  }
 ],
 "metadata": {
  "kernelspec": {
   "display_name": "Python 3",
   "language": "python",
   "name": "python3"
  },
  "language_info": {
   "codemirror_mode": {
    "name": "ipython",
    "version": 3
   },
   "file_extension": ".py",
   "mimetype": "text/x-python",
   "name": "python",
   "nbconvert_exporter": "python",
   "pygments_lexer": "ipython3",
   "version": "3.8.5"
  }
 },
 "nbformat": 4,
 "nbformat_minor": 4
}
