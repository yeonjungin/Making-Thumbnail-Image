{
 "cells": [
  {
   "cell_type": "markdown",
   "metadata": {},
   "source": [
    "## 텔레그램 봇 만들기"
   ]
  },
  {
   "cell_type": "code",
   "execution_count": 10,
   "metadata": {},
   "outputs": [
    {
     "name": "stdout",
     "output_type": "stream",
     "text": [
      "Requirement already satisfied: python-telegram-bot in c:\\programdata\\anaconda3\\lib\\site-packages (13.1)Note: you may need to restart the kernel to use updated packages.\n",
      "\n",
      "Requirement already satisfied: APScheduler==3.6.3 in c:\\programdata\\anaconda3\\lib\\site-packages (from python-telegram-bot) (3.6.3)\n",
      "Requirement already satisfied: certifi in c:\\programdata\\anaconda3\\lib\\site-packages (from python-telegram-bot) (2020.6.20)\n",
      "Requirement already satisfied: decorator>=4.4.0 in c:\\programdata\\anaconda3\\lib\\site-packages (from python-telegram-bot) (4.4.2)\n",
      "Requirement already satisfied: pytz>=2018.6 in c:\\programdata\\anaconda3\\lib\\site-packages (from python-telegram-bot) (2020.1)\n",
      "Requirement already satisfied: tornado>=5.1 in c:\\programdata\\anaconda3\\lib\\site-packages (from python-telegram-bot) (6.0.4)\n",
      "Requirement already satisfied: cryptography in c:\\programdata\\anaconda3\\lib\\site-packages (from python-telegram-bot) (3.1.1)\n",
      "Requirement already satisfied: six>=1.4.0 in c:\\programdata\\anaconda3\\lib\\site-packages (from APScheduler==3.6.3->python-telegram-bot) (1.15.0)\n",
      "Requirement already satisfied: tzlocal>=1.2 in c:\\programdata\\anaconda3\\lib\\site-packages (from APScheduler==3.6.3->python-telegram-bot) (2.1)\n",
      "Requirement already satisfied: setuptools>=0.7 in c:\\programdata\\anaconda3\\lib\\site-packages (from APScheduler==3.6.3->python-telegram-bot) (50.3.1.post20201107)\n",
      "Requirement already satisfied: cffi!=1.11.3,>=1.8 in c:\\programdata\\anaconda3\\lib\\site-packages (from cryptography->python-telegram-bot) (1.14.3)\n",
      "Requirement already satisfied: pycparser in c:\\programdata\\anaconda3\\lib\\site-packages (from cffi!=1.11.3,>=1.8->cryptography->python-telegram-bot) (2.20)\n"
     ]
    }
   ],
   "source": [
    "pip install python-telegram-bot"
   ]
  },
  {
   "cell_type": "code",
   "execution_count": null,
   "metadata": {},
   "outputs": [],
   "source": [
    "import telegram\n",
    "\n",
    "my_token='--토큰 --'\n",
    "\n",
    "#봇 생성하기\n",
    "bot=telegram.Bot(token=my_token) \n",
    "print('type(bot) : ',type(bot))\n",
    "print('bot : ',bot)\n",
    "print(\"--------------------------------------------------------------------1\")\n",
    "\n",
    "봇(사용자) 정보 확인\n",
    "bot_info=bot.getMe() #getMe() 메소드는 봇 정보를 확인할 때 사용한다.\n",
    "print(type(bot_info))\n",
    "print(bot_info)\n",
    "print(\"--------------------------------------------------------------------2\")\n",
    "\n",
    "# 메세지 업데이트 내용 가져오기\n",
    "updates=bot.getUpdates() #메세지 업데이트 내용을 가져오는 명령이다. \n",
    "print('updates : ',updates)\n",
    "print('\\n')\n",
    "print(\"--------------------------------------------------------------------3\")\n",
    "\n",
    "for update in updates:\n",
    "    print('updates : ', update)\n",
    "    print('\\n')\n",
    "\n",
    "latest_update=updates[-1] #가장 최신 업데이트 내용을 변수에 저장하는 작업\n",
    "print(latest_update.message.date) #날짜 추출\n",
    "print(latest_update.message.chat.id) # 상대방의 chat_id 추출\n",
    "print(latest_update.message.text) #메세지 텍스트 내용 추출\n",
    "print(\"--------------------------------------------------------------------4\")\n"
   ]
  },
  {
   "cell_type": "code",
   "execution_count": null,
   "metadata": {},
   "outputs": [],
   "source": [
    "import telegram\n",
    "def send_telegram_message(message):\n",
    "    my_token='--토큰--'\n",
    "    bot=telegram.Bot(token=my_token)\n",
    "    \n",
    "    chat_id=bot.getUpdates()[-1].message.chat.id # 가장 최근 메세지를 보낸 상대방의 chat_id를 확인한다.\n",
    "    bot.sendMessage(chat_id=chat_id,text=str(message)) # sendMessage()메소드를 사용하며 메세지를 보낸다.\n",
    "    #chat_id와 보내는 메세지를 텍스트 형태의 함수 인자로 입력한다.\n",
    "    \n",
    "if __name__ == '__main__':\n",
    "    message=input('보낼 메세지를 입력하세요 : ')\n",
    "    send_telegram_message(message)\n",
    "\n",
    "    "
   ]
  },
  {
   "cell_type": "code",
   "execution_count": 22,
   "metadata": {},
   "outputs": [],
   "source": [
    "import telegram\n",
    "\n",
    "def send_telegram_channel_message(channel_id,message):\n",
    "    bot=telegram.Bot(token=my_token)\n",
    "    \n",
    "    bot.sendMessage(chat_id=channel_id,text=str(message))\n",
    "    \n",
    "if __name__ =='__main__':\n",
    "    channel_id='@pyeboong_test'\n",
    "    message='채널에 보내는 메세지입니다.'\n",
    "    send_telegram_channel_message(channel_id,message)\n"
   ]
  },
  {
   "cell_type": "code",
   "execution_count": null,
   "metadata": {},
   "outputs": [],
   "source": [
    "# pyeboong, pyeboong_bot, mongja_channel"
   ]
  }
 ],
 "metadata": {
  "kernelspec": {
   "display_name": "Python 3",
   "language": "python",
   "name": "python3"
  },
  "language_info": {
   "codemirror_mode": {
    "name": "ipython",
    "version": 3
   },
   "file_extension": ".py",
   "mimetype": "text/x-python",
   "name": "python",
   "nbconvert_exporter": "python",
   "pygments_lexer": "ipython3",
   "version": "3.8.5"
  }
 },
 "nbformat": 4,
 "nbformat_minor": 4
}
