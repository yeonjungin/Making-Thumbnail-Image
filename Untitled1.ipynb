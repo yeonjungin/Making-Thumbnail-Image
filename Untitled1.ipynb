{
 "cells": [
  {
   "cell_type": "markdown",
   "metadata": {},
   "source": [
    "## 동적 웹 페이지\n",
    "- 셀레니움을 이용하면 동적으로 변화하는 최종 DOM 구조를 확인할 수 있다\n",
    "- Requests나 BeautifulSoup을 이용하는 방식으로는 동적 웹 페이지 스크래핑 불가함\n"
   ]
  },
  {
   "cell_type": "code",
   "execution_count": 1,
   "metadata": {},
   "outputs": [
    {
     "name": "stdout",
     "output_type": "stream",
     "text": [
      "Requirement already satisfied: selenium in c:\\programdata\\anaconda3\\lib\\site-packages (3.141.0)\n",
      "Requirement already satisfied: urllib3 in c:\\programdata\\anaconda3\\lib\\site-packages (from selenium) (1.25.11)\n",
      "Note: you may need to restart the kernel to use updated packages.\n"
     ]
    }
   ],
   "source": [
    "pip install selenium"
   ]
  },
  {
   "cell_type": "code",
   "execution_count": null,
   "metadata": {},
   "outputs": [],
   "source": [
    "from selenium import webdriver\n",
    "\n",
    "driver=webdriver.Chrome(\"./Selenium/chromedriver\")\n",
    "driver.implicitly_wait(3)\n",
    "driver.get(\"https://www.danawa.com/\")\n",
    "\n",
    "#관심상품 목록 html 가져오기\n",
    "wishlist=driver.find_element_by_css_selector('#danawa_header > div.danawa_top_search > div > div.my_service > div.my_service_list > ul > li.interest_goods_service')\n",
    "wishlist.click()\n",
    "driver.implicitly_wait(3)\n",
    "html_src=driver.page_source\n",
    "driver.close()\n",
    "print(html_src[:500])\n",
    "print(\"\\n\")\n",
    "\n",
    "# 관심상품 목록 페이지를 BeautifulSoup으로 파싱\n",
    "from bs4 import BeautifulSoup\n",
    "import re\n",
    "\n",
    "soup= BeautifulSoup(html_src,'html.parser')\n",
    "\n",
    "wish_table=soup.select('table[class=\"tbl wish_tbl\"]')[0]\n",
    "wish_items=wish_table.select('tbody tr')\n",
    "\n",
    "for item in wish_items:\n",
    "    title=item.find('div',{'class':'tit'}).text\n",
    "    price=item.find('span',{'class':'price'}).text\n",
    "    link=item.find('a',href=re.compile('http://prod.danawa.com/info/?pcode=5967863')).get('href')\n",
    "    print(title)\n",
    "    print(price)\n",
    "    print(link)\n",
    "    print(\"\\n\")"
   ]
  },
  {
   "cell_type": "code",
   "execution_count": null,
   "metadata": {},
   "outputs": [],
   "source": []
  }
 ],
 "metadata": {
  "kernelspec": {
   "display_name": "Python 3",
   "language": "python",
   "name": "python3"
  },
  "language_info": {
   "codemirror_mode": {
    "name": "ipython",
    "version": 3
   },
   "file_extension": ".py",
   "mimetype": "text/x-python",
   "name": "python",
   "nbconvert_exporter": "python",
   "pygments_lexer": "ipython3",
   "version": "3.8.5"
  }
 },
 "nbformat": 4,
 "nbformat_minor": 4
}
