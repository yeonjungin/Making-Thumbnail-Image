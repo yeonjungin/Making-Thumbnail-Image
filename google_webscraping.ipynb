{
 "cells": [
  {
   "cell_type": "markdown",
   "metadata": {},
   "source": [
    "## 구글 뉴스 클리핑하기\n",
    "https://news.google.com/search?q=python&hl=ko&gl=KR&ceid=KR%3Ako\n",
    ">> search? 부분을 확인했다면, 로봇의 접근을 허용하고 있다는 뜻이다.\n"
   ]
  },
  {
   "cell_type": "code",
   "execution_count": null,
   "metadata": {},
   "outputs": [],
   "source": [
    "import requests\n",
    "from bs4 import BeautifulSoup\n",
    "\n",
    "base_url=\"https://news.google.com\"\n",
    "search_url=base_url+\"/search?q=python&hl=ko&gl=KR&ceid=KR%3Ako\"\n",
    "resp=requests.get(search_url)\n",
    "html_src=resp.text\n",
    "soup=BeautifulSoup(html_src,'html.parser')\n",
    "\n",
    "#뉴스 아이템 블록 선택\n",
    "news_items=soup.select('div[class=\"xrnccd\"]')\n",
    "print(len(news_items))\n",
    "print(news_items[0])\n",
    "print(\"\\n\")\n",
    "\n",
    "#각 뉴스 아이템에서 링크,제목,내용,출처,등록일시 데이터를 파싱한다.\n",
    "for item in news_items[:3]"
   ]
  }
 ],
 "metadata": {
  "kernelspec": {
   "display_name": "Python 3",
   "language": "python",
   "name": "python3"
  },
  "language_info": {
   "codemirror_mode": {
    "name": "ipython",
    "version": 3
   },
   "file_extension": ".py",
   "mimetype": "text/x-python",
   "name": "python",
   "nbconvert_exporter": "python",
   "pygments_lexer": "ipython3",
   "version": "3.8.5"
  }
 },
 "nbformat": 4,
 "nbformat_minor": 4
}
